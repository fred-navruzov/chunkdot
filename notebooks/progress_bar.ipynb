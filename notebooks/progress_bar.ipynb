{
 "cells": [
  {
   "cell_type": "markdown",
   "id": "315525da",
   "metadata": {},
   "source": [
    "### Add progress bar estimates\n",
    "\n",
    "As it's generally unclear, what exact time parallel processing can take for huge matrices (i.e. $N \\times N$ where $N=10^6$), <br>we can add [TQDM-like](https://github.com/tqdm/tqdm) progress bar to see estimates for elapsed and remaining times.\n",
    "\n",
    "However, to adapt it to Numba blocks, [numba-progress](https://github.com/mortacious/numba-progress) library is utilized."
   ]
  },
  {
   "cell_type": "code",
   "execution_count": 1,
   "id": "81060a25",
   "metadata": {
    "ExecuteTime": {
     "end_time": "2023-04-16T10:36:40.025398Z",
     "start_time": "2023-04-16T10:36:39.617264Z"
    }
   },
   "outputs": [],
   "source": [
    "import numpy as np\n",
    "from chunkdot.cosine_similarity_top_k import cosine_similarity_top_k\n",
    "\n",
    "\n",
    "n_items = 15000\n",
    "embedding_dim = 256\n",
    "float_type = 'float64'\n",
    "max_memory = 5*2**30  # X * 2**30 = X Gb RAM\n",
    "top_k = 16\n",
    "\n",
    "np.random.seed(42)\n",
    "\n",
    "# create random embeddings\n",
    "embeddings = np.random.randn(int(n_items), int(embedding_dim)).astype(float_type)"
   ]
  },
  {
   "cell_type": "code",
   "execution_count": 2,
   "id": "a9a85d88",
   "metadata": {
    "ExecuteTime": {
     "end_time": "2023-04-16T10:36:47.752330Z",
     "start_time": "2023-04-16T10:36:40.026906Z"
    }
   },
   "outputs": [],
   "source": [
    "# default behavior, no progress bar (False)\n",
    "similarities = cosine_similarity_top_k(\n",
    "    embeddings=embeddings,\n",
    "    top_k=top_k,\n",
    "    normalize=True,\n",
    "    max_memory=max_memory,\n",
    "    force_memory=False,\n",
    "    show_progress=False,\n",
    ")"
   ]
  },
  {
   "cell_type": "code",
   "execution_count": 3,
   "id": "6feb1ddf",
   "metadata": {
    "ExecuteTime": {
     "end_time": "2023-04-16T10:36:51.148085Z",
     "start_time": "2023-04-16T10:36:47.754038Z"
    }
   },
   "outputs": [
    {
     "name": "stdout",
     "output_type": "stream",
     "text": [
      "Perform chunked matrix multiplication: 100%|███████████████████████████████████████████████████████████████████████████████████████████████████| 43.0/43 [00:03<00:00, 12.73it/s]\n"
     ]
    }
   ],
   "source": [
    "# tqdm-like progress bar to estimate elapsed/remaining time (True)\n",
    "similarities = cosine_similarity_top_k(\n",
    "    embeddings=embeddings,\n",
    "    top_k=top_k,\n",
    "    normalize=True,\n",
    "    max_memory=max_memory,\n",
    "    force_memory=False,\n",
    "    show_progress=True,\n",
    ")"
   ]
  }
 ],
 "metadata": {
  "kernelspec": {
   "display_name": "Python [conda env:chunkdot] *",
   "language": "python",
   "name": "conda-env-chunkdot-py"
  },
  "language_info": {
   "codemirror_mode": {
    "name": "ipython",
    "version": 3
   },
   "file_extension": ".py",
   "mimetype": "text/x-python",
   "name": "python",
   "nbconvert_exporter": "python",
   "pygments_lexer": "ipython3",
   "version": "3.9.16"
  },
  "toc": {
   "base_numbering": 1,
   "nav_menu": {},
   "number_sections": true,
   "sideBar": true,
   "skip_h1_title": false,
   "title_cell": "Table of Contents",
   "title_sidebar": "Contents",
   "toc_cell": false,
   "toc_position": {},
   "toc_section_display": true,
   "toc_window_display": false
  }
 },
 "nbformat": 4,
 "nbformat_minor": 5
}
